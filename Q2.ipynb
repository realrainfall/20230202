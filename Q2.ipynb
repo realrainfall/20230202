N = int(input())

count = 0
temp = N

while True:
    if temp < 10:
        temp = temp * 10 + temp
        count += 1
        if temp == N: break
    else:
        temp =  temp % 10 * 10 + (temp // 10 + temp % 10) % 10
        count += 1
        if temp == N: break

    
print(count)
